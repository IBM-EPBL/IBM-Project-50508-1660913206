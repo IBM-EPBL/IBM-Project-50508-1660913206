{
  "nbformat": 4,
  "nbformat_minor": 0,
  "metadata": {
    "colab": {
      "provenance": []
    },
    "kernelspec": {
      "name": "python3",
      "display_name": "Python 3"
    },
    "language_info": {
      "name": "python"
    }
  },
  "cells": [
    {
      "cell_type": "code",
      "execution_count": 1,
      "metadata": {
        "colab": {
          "base_uri": "https://localhost:8080/"
        },
        "id": "jwdd7tsRrt3g",
        "outputId": "e5d9c534-2147-467a-8f70-f2486a6b2f83"
      },
      "outputs": [
        {
          "output_type": "stream",
          "name": "stdout",
          "text": [
            "Looking in indexes: https://pypi.org/simple, https://us-python.pkg.dev/colab-wheels/public/simple/\n",
            "Collecting twilio\n",
            "  Downloading twilio-7.15.1-py2.py3-none-any.whl (1.4 MB)\n",
            "\u001b[K     |████████████████████████████████| 1.4 MB 7.3 MB/s \n",
            "\u001b[?25hRequirement already satisfied: pytz in /usr/local/lib/python3.7/dist-packages (from twilio) (2022.6)\n",
            "Collecting PyJWT<3.0.0,>=2.0.0\n",
            "  Downloading PyJWT-2.6.0-py3-none-any.whl (20 kB)\n",
            "Requirement already satisfied: requests>=2.0.0 in /usr/local/lib/python3.7/dist-packages (from twilio) (2.23.0)\n",
            "Requirement already satisfied: urllib3!=1.25.0,!=1.25.1,<1.26,>=1.21.1 in /usr/local/lib/python3.7/dist-packages (from requests>=2.0.0->twilio) (1.24.3)\n",
            "Requirement already satisfied: idna<3,>=2.5 in /usr/local/lib/python3.7/dist-packages (from requests>=2.0.0->twilio) (2.10)\n",
            "Requirement already satisfied: chardet<4,>=3.0.2 in /usr/local/lib/python3.7/dist-packages (from requests>=2.0.0->twilio) (3.0.4)\n",
            "Requirement already satisfied: certifi>=2017.4.17 in /usr/local/lib/python3.7/dist-packages (from requests>=2.0.0->twilio) (2022.9.24)\n",
            "Installing collected packages: PyJWT, twilio\n",
            "Successfully installed PyJWT-2.6.0 twilio-7.15.1\n"
          ]
        }
      ],
      "source": [
        "!pip install twilio"
      ]
    },
    {
      "cell_type": "markdown",
      "source": [
        "**Video Analysis**"
      ],
      "metadata": {
        "id": "WSPmWipor8pc"
      }
    },
    {
      "cell_type": "code",
      "source": [
        "!pip install playsound==1.2.2"
      ],
      "metadata": {
        "colab": {
          "base_uri": "https://localhost:8080/"
        },
        "id": "Y7XOTggNr9Sc",
        "outputId": "4ecb2cb6-e6d3-49b5-a196-3dbca95bfc9d"
      },
      "execution_count": 2,
      "outputs": [
        {
          "output_type": "stream",
          "name": "stdout",
          "text": [
            "Looking in indexes: https://pypi.org/simple, https://us-python.pkg.dev/colab-wheels/public/simple/\n",
            "Collecting playsound==1.2.2\n",
            "  Downloading playsound-1.2.2-py2.py3-none-any.whl (6.0 kB)\n",
            "Installing collected packages: playsound\n",
            "Successfully installed playsound-1.2.2\n"
          ]
        }
      ]
    },
    {
      "cell_type": "code",
      "source": [
        "import cv2\n",
        "import numpy as np\n",
        "from tensorflow.keras.utils import load_img,img_to_array\n",
        "from tensorflow.keras.models import load_model\n",
        "from twilio.rest import Client\n",
        "import getpass\n",
        "from playsound import playsound\n",
        "msg_sent = False\n",
        "model = load_model('ffd_model.h5')\n",
        "video = cv2.VideoCapture(\"demo.mp4\")\n",
        "def send_message():\n",
        "    global phno\n",
        "    account_sid = os.environ['TWILIO_ACCOUNT_SID']\n",
        "    auth_token = os.environ['TWILIO_AUTH_TOKEN']\n",
        "    client = Client(account_sid,auth_token)\n",
        "    msg = client.messages.create(\n",
        "        body=\"Fire Detected! Get to safety immediately!!!!\",\n",
        "        from_=os.environ['TWILIIO_PHONE_NUMBER'],\n",
        "        to=phno\n",
        "    )\n",
        "    print(msg.sid)\n",
        "    print(\"Fire Detected\")\n",
        "    print(\"SMS Sent\")\n",
        "phno = getpass.getpass(prompt=\"Enter your phone number with the country code:\")"
      ],
      "metadata": {
        "id": "9PIXWp5est8P"
      },
      "execution_count": null,
      "outputs": []
    },
    {
      "cell_type": "markdown",
      "source": [
        "Enter your phone number with the country code:··········"
      ],
      "metadata": {
        "id": "hMioiyPys253"
      }
    }
  ]
}
{
  "nbformat": 4,
  "nbformat_minor": 0,
  "metadata": {
    "colab": {
      "provenance": []
    },
    "kernelspec": {
      "name": "python3",
      "display_name": "Python 3"
    },
    "language_info": {
      "name": "python"
    }
  },
  "cells": [
    {
      "cell_type": "markdown",
      "source": [
        "**Importing The ImageDataGenerator Library**"
      ],
      "metadata": {
        "id": "dLfIdwd4unRA"
      }
    },
    {
      "cell_type": "code",
      "execution_count": null,
      "metadata": {
        "id": "DKBL9-YvmjOX"
      },
      "outputs": [],
      "source": [
        "import keras \n",
        "from keras.preprocessing.image import ImageDataGenerator"
      ]
    }
  ]
}
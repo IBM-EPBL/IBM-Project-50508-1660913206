{
  "nbformat": 4,
  "nbformat_minor": 0,
  "metadata": {
    "colab": {
      "provenance": []
    },
    "kernelspec": {
      "name": "python3",
      "display_name": "Python 3"
    },
    "language_info": {
      "name": "python"
    }
  },
  "cells": [
    {
      "cell_type": "markdown",
      "source": [
        "**Importing The ImageDataGenerator Library**"
      ],
      "metadata": {
        "id": "dLfIdwd4unRA"
      }
    },
    {
      "cell_type": "code",
      "execution_count": null,
      "metadata": {
        "id": "DKBL9-YvmjOX"
      },
      "outputs": [],
      "source": [
        "import keras \n",
        "from keras.preprocessing.image import ImageDataGenerator"
      ]
    },
    {
      "cell_type": "code",
      "source": [],
      "metadata": {
        "id": "O7MXoe7SFmbI"
      },
      "execution_count": null,
      "outputs": []
    },
    {
      "cell_type": "markdown",
      "source": [
        "**The Parameters/ Arguments For ImageDataGenerator Class**"
      ],
      "metadata": {
        "id": "d9YW4IRV30gb"
      }
    },
    {
      "cell_type": "code",
      "source": [
        "train_datagen=ImageDataGenerator(rescale=1./255,\n",
        "                                 shear_range=0.2,\n",
        "                                 rotation_range=180,\n",
        "                                 zoom_range=0.2,\n",
        "                                 horizontal_flip=True)\n",
        "test_datagen=ImageDataGenerator(rescale=1./255)"
      ],
      "metadata": {
        "id": "mRSxNA5N2YKh"
      },
      "execution_count": null,
      "outputs": []
    },
    {
      "cell_type": "markdown",
      "source": [
        "**Applying ImageDataGenerator Functionality To Trainset And Testset**"
      ],
      "metadata": {
        "id": "sEgLedvR9BmQ"
      }
    },
    {
      "cell_type": "markdown",
      "source": [
        "1.**Test Set**"
      ],
      "metadata": {
        "id": "jXV7NqkCLU5q"
      }
    },
    {
      "cell_type": "code",
      "source": [
        "x_test = test_datagen.flow_from_directory(r'.mainproject/Dataset Main/test_set',\n",
        "                                            target_size=(128.128),\n",
        "                                            batch_size =32,\n",
        "                                            class_mode='binary')"
      ],
      "metadata": {
        "id": "hSXv-ED965LZ"
      },
      "execution_count": null,
      "outputs": []
    },
    {
      "cell_type": "markdown",
      "source": [
        "2.**Train Set**"
      ],
      "metadata": {
        "id": "0oaL_gZnK78c"
      }
    },
    {
      "cell_type": "code",
      "source": [
        "x_train = train_datagen.flow_from_directory(r'.mainproject/Dataset Main/train_set',\n",
        "                                            target_size=(128.128),\n",
        "                                            batch_size =32,\n",
        "                                            class_mode='binary')"
      ],
      "metadata": {
        "id": "FRYUNMU6D0Hb"
      },
      "execution_count": null,
      "outputs": []
    }
  ]
}
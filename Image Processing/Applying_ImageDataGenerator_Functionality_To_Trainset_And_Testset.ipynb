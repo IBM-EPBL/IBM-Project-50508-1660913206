{
  "nbformat": 4,
  "nbformat_minor": 0,
  "metadata": {
    "colab": {
      "provenance": []
    },
    "kernelspec": {
      "name": "python3",
      "display_name": "Python 3"
    },
    "language_info": {
      "name": "python"
    }
  },
  "cells": [
    {
      "cell_type": "markdown",
      "source": [
        "**Applying ImageDataGenerator Functionality To Trainset And Testset**"
      ],
      "metadata": {
        "id": "Neafzank6sI1"
      }
    },
    {
      "cell_type": "markdown",
      "source": [
        "**1. Test Set**"
      ],
      "metadata": {
        "id": "hJK9kbir63XJ"
      }
    },
    {
      "cell_type": "code",
      "source": [
        "x_test = test_datagen.flow_from_directory(r'.mainproject/Dataset Main/test_set',\n",
        "                                            target_size=(128.128),\n",
        "                                            batch_size =32,\n",
        "                                            class_mode='binary')"
      ],
      "metadata": {
        "id": "Pdu9vgFX632q"
      },
      "execution_count": null,
      "outputs": []
    },
    {
      "cell_type": "markdown",
      "source": [
        "**2. Train Set**"
      ],
      "metadata": {
        "id": "-HBbMSq164SE"
      }
    },
    {
      "cell_type": "code",
      "source": [
        "x_train = train_datagen.flow_from_directory(r'.mainproject/Dataset Main/train_set',\n",
        "                                            target_size=(128.128),\n",
        "                                            batch_size =32,\n",
        "                                            class_mode='binary')"
      ],
      "metadata": {
        "id": "qj5PEgYS64-B"
      },
      "execution_count": null,
      "outputs": []
    }
  ]
}
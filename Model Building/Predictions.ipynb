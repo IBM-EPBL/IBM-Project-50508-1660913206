{
  "nbformat": 4,
  "nbformat_minor": 0,
  "metadata": {
    "colab": {
      "provenance": []
    },
    "kernelspec": {
      "name": "python3",
      "display_name": "Python 3"
    },
    "language_info": {
      "name": "python"
    }
  },
  "cells": [
    {
      "cell_type": "code",
      "execution_count": null,
      "metadata": {
        "id": "QvrHMB7xpSAC"
      },
      "outputs": [],
      "source": [
        "import keras\n",
        "from tensorflow.keras.preprocessing.image import ImageDataGenerator"
      ]
    },
    {
      "cell_type": "code",
      "source": [
        "#Define the parameters/arguments for ImageDataGenerator class\n",
        "train_datagen=ImageDataGenerator(rescale=1./255,shear_range=0.2,rotation_range=180,zoom_range=0.2,horizontal_flip=True)\n",
        "\n",
        "test_datagen=ImageDataGenerator(rescale=1./255)"
      ],
      "metadata": {
        "id": "gkRmjp1SpdFz"
      },
      "execution_count": null,
      "outputs": []
    },
    {
      "cell_type": "code",
      "source": [
        "from google.colab import drive\n",
        "drive.mount('/content/drive')"
      ],
      "metadata": {
        "colab": {
          "base_uri": "https://localhost:8080/"
        },
        "id": "vGHLDuuyV5du",
        "outputId": "0ab1bc61-af61-4620-d7ff-f068c45762ce"
      },
      "execution_count": null,
      "outputs": [
        {
          "output_type": "stream",
          "name": "stdout",
          "text": [
            "Drive already mounted at /content/drive; to attempt to forcibly remount, call drive.mount(\"/content/drive\", force_remount=True).\n"
          ]
        }
      ]
    },
    {
      "cell_type": "code",
      "source": [
        "#Applying ImageDataGenerator functionality to trainset\n",
        "x_train=train_datagen.flow_from_directory('/content/drive/MyDrive/dataset/cnn/Dataset/Dataset/train_set',target_size=(128,128),batch_size=32,class_mode='binary')"
      ],
      "metadata": {
        "colab": {
          "base_uri": "https://localhost:8080/"
        },
        "id": "atTqUZQLpg3E",
        "outputId": "b17606f0-0809-4b1d-db50-813ed6478dc0"
      },
      "execution_count": null,
      "outputs": [
        {
          "output_type": "stream",
          "name": "stdout",
          "text": [
            "Found 436 images belonging to 2 classes.\n"
          ]
        }
      ]
    },
    {
      "cell_type": "code",
      "source": [
        "#Applying ImageDataGenerator functionality to testset\n",
        "x_test=test_datagen.flow_from_directory('/content/drive/MyDrive/dataset/cnn/Dataset/Dataset/test_set',target_size=(128,128),batch_size=32,class_mode='binary')"
      ],
      "metadata": {
        "colab": {
          "base_uri": "https://localhost:8080/"
        },
        "id": "DQ7PFyIJtL2A",
        "outputId": "c7d70bb1-9fe1-4219-b049-648d18127a84"
      },
      "execution_count": null,
      "outputs": [
        {
          "output_type": "stream",
          "name": "stdout",
          "text": [
            "Found 121 images belonging to 2 classes.\n"
          ]
        }
      ]
    },
    {
      "cell_type": "code",
      "source": [
        "#import model building libraries\n",
        "\n",
        "#To define Linear initialisation import Sequential\n",
        "from tensorflow.keras.models import Sequential\n",
        "#To add layers import Dense\n",
        "from tensorflow.keras.layers import Dense\n",
        "#To create Convolution kernel import Convolution2D\n",
        "from tensorflow.keras.layers import Convolution2D\n",
        "#import Maxpooling layer\n",
        "from tensorflow.keras.layers import MaxPooling2D\n",
        "#import flatten layer\n",
        "from tensorflow.keras.layers import Flatten\n",
        "import warnings\n",
        "warnings.filterwarnings('ignore')\n"
      ],
      "metadata": {
        "id": "kx6xzOT8tQwj"
      },
      "execution_count": null,
      "outputs": []
    },
    {
      "cell_type": "code",
      "source": [
        "#initializing the model\n",
        "model=Sequential()"
      ],
      "metadata": {
        "id": "eqLmjGC6tTvC"
      },
      "execution_count": null,
      "outputs": []
    },
    {
      "cell_type": "code",
      "source": [
        "#add convolutional layer\n",
        "model.add(Convolution2D(32,(3,3),input_shape=(128,128,3),activation='relu'))\n",
        "#add maxpooling layer\n",
        "model.add(MaxPooling2D(pool_size=(2,2)))\n",
        "#add flatten layer \n",
        "model.add(Flatten())"
      ],
      "metadata": {
        "id": "yXNObx7QtWeB"
      },
      "execution_count": null,
      "outputs": []
    },
    {
      "cell_type": "code",
      "source": [
        "#add hidden layer\n",
        "model.add(Dense(150,activation='relu'))\n",
        "#add output layer\n",
        "model.add(Dense(1,activation='sigmoid'))"
      ],
      "metadata": {
        "id": "uAdM2HbCJJum"
      },
      "execution_count": null,
      "outputs": []
    },
    {
      "cell_type": "code",
      "source": [
        "#configure the learning process\n",
        "model.compile(loss='binary_crossentropy',optimizer=\"adam\",metrics=[\"accuracy\"])"
      ],
      "metadata": {
        "id": "mdddxI7XJzC2"
      },
      "execution_count": null,
      "outputs": []
    },
    {
      "cell_type": "code",
      "source": [
        "model.fit(x_train, epochs=5, validation_data=x_test, steps_per_epoch=len(x_train), validation_steps=len(x_test))"
      ],
      "metadata": {
        "colab": {
          "base_uri": "https://localhost:8080/"
        },
        "id": "me_h3F9lacq0",
        "outputId": "dc468115-2e80-4122-ffa7-df3c375b0b4c"
      },
      "execution_count": null,
      "outputs": [
        {
          "output_type": "stream",
          "name": "stdout",
          "text": [
            "Epoch 1/5\n",
            "14/14 [==============================] - 160s 11s/step - loss: 2.1668 - accuracy: 0.6193 - val_loss: 0.2094 - val_accuracy: 0.9008\n",
            "Epoch 2/5\n",
            "14/14 [==============================] - 27s 2s/step - loss: 0.2780 - accuracy: 0.8784 - val_loss: 0.1019 - val_accuracy: 0.9669\n",
            "Epoch 3/5\n",
            "14/14 [==============================] - 27s 2s/step - loss: 0.2130 - accuracy: 0.9220 - val_loss: 0.0914 - val_accuracy: 0.9669\n",
            "Epoch 4/5\n",
            "14/14 [==============================] - 26s 2s/step - loss: 0.1660 - accuracy: 0.9289 - val_loss: 0.1584 - val_accuracy: 0.9091\n",
            "Epoch 5/5\n",
            "14/14 [==============================] - 28s 2s/step - loss: 0.1859 - accuracy: 0.9220 - val_loss: 0.0900 - val_accuracy: 0.9669\n"
          ]
        },
        {
          "output_type": "execute_result",
          "data": {
            "text/plain": [
              "<keras.callbacks.History at 0x7fa986932110>"
            ]
          },
          "metadata": {},
          "execution_count": 39
        }
      ]
    },
    {
      "cell_type": "code",
      "source": [
        "#save the model\n",
        "model.save(\"forest.h5\")"
      ],
      "metadata": {
        "id": "xdgLAJ3zb83v"
      },
      "execution_count": null,
      "outputs": []
    },
    {
      "cell_type": "code",
      "source": [
        "from tensorflow.keras.models import load_model\n",
        "from tensorflow.keras.preprocessing import image\n",
        "import numpy as np"
      ],
      "metadata": {
        "id": "Q5Ie7ZelcZG4"
      },
      "execution_count": null,
      "outputs": []
    },
    {
      "cell_type": "code",
      "source": [
        "model=load_model(\"/content/drive/MyDrive/dataset/cnn/forest1.h5\")"
      ],
      "metadata": {
        "id": "fYRCJ4ofc0eP"
      },
      "execution_count": null,
      "outputs": []
    },
    {
      "cell_type": "code",
      "source": [
        "img=image.load_img(\"/content/drive/MyDrive/dataset/cnn/Dataset/Dataset/test_set/with fire/Bandipur_fires_2019.jpg\",target_size=(64,64))"
      ],
      "metadata": {
        "id": "MLjtEE2eepLy"
      },
      "execution_count": null,
      "outputs": []
    },
    {
      "cell_type": "code",
      "source": [
        "img"
      ],
      "metadata": {
        "colab": {
          "base_uri": "https://localhost:8080/",
          "height": 81
        },
        "id": "Ugs6LJlee1Jd",
        "outputId": "87882caf-545b-426a-c433-da11cfd3581f"
      },
      "execution_count": null,
      "outputs": [
        {
          "output_type": "execute_result",
          "data": {
            "text/plain": [
              "<PIL.Image.Image image mode=RGB size=64x64 at 0x7FA9835DFF50>"
            ],
            "image/png": "[encoded data removed]"
          },
          "metadata": {},
          "execution_count": 58
        }
      ]
    },
    {
      "cell_type": "code",
      "source": [
        "x=image.img_to_array(img)"
      ],
      "metadata": {
        "id": "C8fxaztWe4vT"
      },
      "execution_count": null,
      "outputs": []
    },
    {
      "cell_type": "code",
      "source": [
        "x=np.expand_dims(x,axis=0)"
      ],
      "metadata": {
        "id": "sNK6MxuAe8B5"
      },
      "execution_count": null,
      "outputs": []
    },
    {
      "cell_type": "code",
      "source": [
        "#prediction\n",
        "pred= model.predict(x)"
      ],
      "metadata": {
        "colab": {
          "base_uri": "https://localhost:8080/"
        },
        "id": "qi-ITnvMfB4k",
        "outputId": "d66e3ed7-72c9-4d29-a476-657e118ab88c"
      },
      "execution_count": null,
      "outputs": [
        {
          "output_type": "stream",
          "name": "stdout",
          "text": [
            "1/1 [==============================] - 0s 24ms/step\n"
          ]
        }
      ]
    },
    {
      "cell_type": "code",
      "source": [
        "pred"
      ],
      "metadata": {
        "colab": {
          "base_uri": "https://localhost:8080/"
        },
        "id": "8IBrALpPfFKy",
        "outputId": "77b9f959-14c9-47f6-9bf7-39e930873273"
      },
      "execution_count": null,
      "outputs": [
        {
          "output_type": "execute_result",
          "data": {
            "text/plain": [
              "array([[1., 0.]], dtype=float32)"
            ]
          },
          "metadata": {},
          "execution_count": 62
        }
      ]
    },
    {
      "cell_type": "code",
      "source": [
        "labels=[\"with fire\",\"without fire\"]"
      ],
      "metadata": {
        "id": "z0cjYZqMfshQ"
      },
      "execution_count": null,
      "outputs": []
    },
    {
      "cell_type": "code",
      "source": [
        "np.argmax(pred)"
      ],
      "metadata": {
        "colab": {
          "base_uri": "https://localhost:8080/"
        },
        "id": "KIWoLLx0f399",
        "outputId": "dbe4183c-9d41-46fe-c546-e752e9a86003"
      },
      "execution_count": null,
      "outputs": [
        {
          "output_type": "execute_result",
          "data": {
            "text/plain": [
              "0"
            ]
          },
          "metadata": {},
          "execution_count": 65
        }
      ]
    },
    {
      "cell_type": "code",
      "source": [
        "labels[np.argmax(pred)]"
      ],
      "metadata": {
        "colab": {
          "base_uri": "https://localhost:8080/",
          "height": 36
        },
        "id": "g4wWwalLf7vm",
        "outputId": "33d6f924-5888-49c7-e130-bb92b7da3a84"
      },
      "execution_count": null,
      "outputs": [
        {
          "output_type": "execute_result",
          "data": {
            "text/plain": [
              "'with fire'"
            ],
            "application/vnd.google.colaboratory.intrinsic+json": {
              "type": "string"
            }
          },
          "metadata": {},
          "execution_count": 66
        }
      ]
    }
  ]
}